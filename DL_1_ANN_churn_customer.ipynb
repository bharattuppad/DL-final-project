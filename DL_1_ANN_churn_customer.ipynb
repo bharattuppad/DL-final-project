{
  "nbformat": 4,
  "nbformat_minor": 0,
  "metadata": {
    "colab": {
      "provenance": []
    },
    "kernelspec": {
      "name": "python3",
      "display_name": "Python 3"
    },
    "language_info": {
      "name": "python"
    }
  },
  "cells": [
    {
      "cell_type": "code",
      "execution_count": 17,
      "metadata": {
        "id": "McJBsDNcjoUT"
      },
      "outputs": [],
      "source": [
        "import numpy as np\n",
        "import pandas as pd\n",
        "import seaborn as sns\n",
        "import matplotlib.pyplot as plt\n",
        "\n",
        "import warnings\n",
        "warnings.filterwarnings(\"ignore\")\n",
        "\n",
        "import tensorflow as tf\n",
        "from tensorflow.keras import Sequential # it is used to build ANN\n",
        "from tensorflow.keras.layers import Dense # it is used to add hidden layers\n",
        "from sklearn.metrics import classification_report # for evaluation"
      ]
    },
    {
      "cell_type": "code",
      "source": [
        "df = pd.read_excel(\"Churn_Modelling.xlsx\")\n",
        "df.head()"
      ],
      "metadata": {
        "colab": {
          "base_uri": "https://localhost:8080/",
          "height": 250
        },
        "id": "lL2Ssa19kG7x",
        "outputId": "bad1d130-6661-42b3-a258-05e401ae2825"
      },
      "execution_count": 18,
      "outputs": [
        {
          "output_type": "execute_result",
          "data": {
            "text/plain": [
              "   RowNumber  CustomerId   Surname  CreditScore Geography  Gender   Age  \\\n",
              "0        1.0  15634602.0  Hargrave        619.0    France  Female  42.0   \n",
              "1        2.0  15647311.0      Hill        608.0     Spain  Female  41.0   \n",
              "2        3.0  15619304.0      Onio        502.0    France  Female  42.0   \n",
              "3        4.0  15701354.0      Boni        699.0    France  Female  39.0   \n",
              "4        5.0  15737888.0  Mitchell        850.0     Spain  Female  43.0   \n",
              "\n",
              "   Tenure    Balance  NumOfProducts  HasCrCard  IsActiveMember  \\\n",
              "0     2.0       0.00            1.0        1.0             1.0   \n",
              "1     1.0   83807.86            1.0        0.0             1.0   \n",
              "2     8.0  159660.80            3.0        1.0             0.0   \n",
              "3     1.0       0.00            2.0        0.0             0.0   \n",
              "4     2.0  125510.82            1.0        1.0             1.0   \n",
              "\n",
              "   EstimatedSalary  Exited  \n",
              "0        101348.88     1.0  \n",
              "1        112542.58     0.0  \n",
              "2        113931.57     1.0  \n",
              "3         93826.63     0.0  \n",
              "4         79084.10     0.0  "
            ],
            "text/html": [
              "\n",
              "  <div id=\"df-fc01b9ce-7de5-40e9-8d21-9914f9f9bec6\">\n",
              "    <div class=\"colab-df-container\">\n",
              "      <div>\n",
              "<style scoped>\n",
              "    .dataframe tbody tr th:only-of-type {\n",
              "        vertical-align: middle;\n",
              "    }\n",
              "\n",
              "    .dataframe tbody tr th {\n",
              "        vertical-align: top;\n",
              "    }\n",
              "\n",
              "    .dataframe thead th {\n",
              "        text-align: right;\n",
              "    }\n",
              "</style>\n",
              "<table border=\"1\" class=\"dataframe\">\n",
              "  <thead>\n",
              "    <tr style=\"text-align: right;\">\n",
              "      <th></th>\n",
              "      <th>RowNumber</th>\n",
              "      <th>CustomerId</th>\n",
              "      <th>Surname</th>\n",
              "      <th>CreditScore</th>\n",
              "      <th>Geography</th>\n",
              "      <th>Gender</th>\n",
              "      <th>Age</th>\n",
              "      <th>Tenure</th>\n",
              "      <th>Balance</th>\n",
              "      <th>NumOfProducts</th>\n",
              "      <th>HasCrCard</th>\n",
              "      <th>IsActiveMember</th>\n",
              "      <th>EstimatedSalary</th>\n",
              "      <th>Exited</th>\n",
              "    </tr>\n",
              "  </thead>\n",
              "  <tbody>\n",
              "    <tr>\n",
              "      <th>0</th>\n",
              "      <td>1.0</td>\n",
              "      <td>15634602.0</td>\n",
              "      <td>Hargrave</td>\n",
              "      <td>619.0</td>\n",
              "      <td>France</td>\n",
              "      <td>Female</td>\n",
              "      <td>42.0</td>\n",
              "      <td>2.0</td>\n",
              "      <td>0.00</td>\n",
              "      <td>1.0</td>\n",
              "      <td>1.0</td>\n",
              "      <td>1.0</td>\n",
              "      <td>101348.88</td>\n",
              "      <td>1.0</td>\n",
              "    </tr>\n",
              "    <tr>\n",
              "      <th>1</th>\n",
              "      <td>2.0</td>\n",
              "      <td>15647311.0</td>\n",
              "      <td>Hill</td>\n",
              "      <td>608.0</td>\n",
              "      <td>Spain</td>\n",
              "      <td>Female</td>\n",
              "      <td>41.0</td>\n",
              "      <td>1.0</td>\n",
              "      <td>83807.86</td>\n",
              "      <td>1.0</td>\n",
              "      <td>0.0</td>\n",
              "      <td>1.0</td>\n",
              "      <td>112542.58</td>\n",
              "      <td>0.0</td>\n",
              "    </tr>\n",
              "    <tr>\n",
              "      <th>2</th>\n",
              "      <td>3.0</td>\n",
              "      <td>15619304.0</td>\n",
              "      <td>Onio</td>\n",
              "      <td>502.0</td>\n",
              "      <td>France</td>\n",
              "      <td>Female</td>\n",
              "      <td>42.0</td>\n",
              "      <td>8.0</td>\n",
              "      <td>159660.80</td>\n",
              "      <td>3.0</td>\n",
              "      <td>1.0</td>\n",
              "      <td>0.0</td>\n",
              "      <td>113931.57</td>\n",
              "      <td>1.0</td>\n",
              "    </tr>\n",
              "    <tr>\n",
              "      <th>3</th>\n",
              "      <td>4.0</td>\n",
              "      <td>15701354.0</td>\n",
              "      <td>Boni</td>\n",
              "      <td>699.0</td>\n",
              "      <td>France</td>\n",
              "      <td>Female</td>\n",
              "      <td>39.0</td>\n",
              "      <td>1.0</td>\n",
              "      <td>0.00</td>\n",
              "      <td>2.0</td>\n",
              "      <td>0.0</td>\n",
              "      <td>0.0</td>\n",
              "      <td>93826.63</td>\n",
              "      <td>0.0</td>\n",
              "    </tr>\n",
              "    <tr>\n",
              "      <th>4</th>\n",
              "      <td>5.0</td>\n",
              "      <td>15737888.0</td>\n",
              "      <td>Mitchell</td>\n",
              "      <td>850.0</td>\n",
              "      <td>Spain</td>\n",
              "      <td>Female</td>\n",
              "      <td>43.0</td>\n",
              "      <td>2.0</td>\n",
              "      <td>125510.82</td>\n",
              "      <td>1.0</td>\n",
              "      <td>1.0</td>\n",
              "      <td>1.0</td>\n",
              "      <td>79084.10</td>\n",
              "      <td>0.0</td>\n",
              "    </tr>\n",
              "  </tbody>\n",
              "</table>\n",
              "</div>\n",
              "      <button class=\"colab-df-convert\" onclick=\"convertToInteractive('df-fc01b9ce-7de5-40e9-8d21-9914f9f9bec6')\"\n",
              "              title=\"Convert this dataframe to an interactive table.\"\n",
              "              style=\"display:none;\">\n",
              "        \n",
              "  <svg xmlns=\"http://www.w3.org/2000/svg\" height=\"24px\"viewBox=\"0 0 24 24\"\n",
              "       width=\"24px\">\n",
              "    <path d=\"M0 0h24v24H0V0z\" fill=\"none\"/>\n",
              "    <path d=\"M18.56 5.44l.94 2.06.94-2.06 2.06-.94-2.06-.94-.94-2.06-.94 2.06-2.06.94zm-11 1L8.5 8.5l.94-2.06 2.06-.94-2.06-.94L8.5 2.5l-.94 2.06-2.06.94zm10 10l.94 2.06.94-2.06 2.06-.94-2.06-.94-.94-2.06-.94 2.06-2.06.94z\"/><path d=\"M17.41 7.96l-1.37-1.37c-.4-.4-.92-.59-1.43-.59-.52 0-1.04.2-1.43.59L10.3 9.45l-7.72 7.72c-.78.78-.78 2.05 0 2.83L4 21.41c.39.39.9.59 1.41.59.51 0 1.02-.2 1.41-.59l7.78-7.78 2.81-2.81c.8-.78.8-2.07 0-2.86zM5.41 20L4 18.59l7.72-7.72 1.47 1.35L5.41 20z\"/>\n",
              "  </svg>\n",
              "      </button>\n",
              "      \n",
              "  <style>\n",
              "    .colab-df-container {\n",
              "      display:flex;\n",
              "      flex-wrap:wrap;\n",
              "      gap: 12px;\n",
              "    }\n",
              "\n",
              "    .colab-df-convert {\n",
              "      background-color: #E8F0FE;\n",
              "      border: none;\n",
              "      border-radius: 50%;\n",
              "      cursor: pointer;\n",
              "      display: none;\n",
              "      fill: #1967D2;\n",
              "      height: 32px;\n",
              "      padding: 0 0 0 0;\n",
              "      width: 32px;\n",
              "    }\n",
              "\n",
              "    .colab-df-convert:hover {\n",
              "      background-color: #E2EBFA;\n",
              "      box-shadow: 0px 1px 2px rgba(60, 64, 67, 0.3), 0px 1px 3px 1px rgba(60, 64, 67, 0.15);\n",
              "      fill: #174EA6;\n",
              "    }\n",
              "\n",
              "    [theme=dark] .colab-df-convert {\n",
              "      background-color: #3B4455;\n",
              "      fill: #D2E3FC;\n",
              "    }\n",
              "\n",
              "    [theme=dark] .colab-df-convert:hover {\n",
              "      background-color: #434B5C;\n",
              "      box-shadow: 0px 1px 3px 1px rgba(0, 0, 0, 0.15);\n",
              "      filter: drop-shadow(0px 1px 2px rgba(0, 0, 0, 0.3));\n",
              "      fill: #FFFFFF;\n",
              "    }\n",
              "  </style>\n",
              "\n",
              "      <script>\n",
              "        const buttonEl =\n",
              "          document.querySelector('#df-fc01b9ce-7de5-40e9-8d21-9914f9f9bec6 button.colab-df-convert');\n",
              "        buttonEl.style.display =\n",
              "          google.colab.kernel.accessAllowed ? 'block' : 'none';\n",
              "\n",
              "        async function convertToInteractive(key) {\n",
              "          const element = document.querySelector('#df-fc01b9ce-7de5-40e9-8d21-9914f9f9bec6');\n",
              "          const dataTable =\n",
              "            await google.colab.kernel.invokeFunction('convertToInteractive',\n",
              "                                                     [key], {});\n",
              "          if (!dataTable) return;\n",
              "\n",
              "          const docLinkHtml = 'Like what you see? Visit the ' +\n",
              "            '<a target=\"_blank\" href=https://colab.research.google.com/notebooks/data_table.ipynb>data table notebook</a>'\n",
              "            + ' to learn more about interactive tables.';\n",
              "          element.innerHTML = '';\n",
              "          dataTable['output_type'] = 'display_data';\n",
              "          await google.colab.output.renderOutput(dataTable, element);\n",
              "          const docLink = document.createElement('div');\n",
              "          docLink.innerHTML = docLinkHtml;\n",
              "          element.appendChild(docLink);\n",
              "        }\n",
              "      </script>\n",
              "    </div>\n",
              "  </div>\n",
              "  "
            ]
          },
          "metadata": {},
          "execution_count": 18
        }
      ]
    },
    {
      "cell_type": "code",
      "source": [
        "df.info()"
      ],
      "metadata": {
        "colab": {
          "base_uri": "https://localhost:8080/",
          "height": 0
        },
        "id": "_LGteityu5q-",
        "outputId": "199fdff7-aa07-48d6-f243-f96d165888e8"
      },
      "execution_count": 19,
      "outputs": [
        {
          "output_type": "stream",
          "name": "stdout",
          "text": [
            "<class 'pandas.core.frame.DataFrame'>\n",
            "RangeIndex: 10000 entries, 0 to 9999\n",
            "Data columns (total 14 columns):\n",
            " #   Column           Non-Null Count  Dtype  \n",
            "---  ------           --------------  -----  \n",
            " 0   RowNumber        10000 non-null  float64\n",
            " 1   CustomerId       10000 non-null  float64\n",
            " 2   Surname          10000 non-null  object \n",
            " 3   CreditScore      10000 non-null  float64\n",
            " 4   Geography        10000 non-null  object \n",
            " 5   Gender           10000 non-null  object \n",
            " 6   Age              10000 non-null  float64\n",
            " 7   Tenure           10000 non-null  float64\n",
            " 8   Balance          10000 non-null  float64\n",
            " 9   NumOfProducts    10000 non-null  float64\n",
            " 10  HasCrCard        10000 non-null  float64\n",
            " 11  IsActiveMember   10000 non-null  float64\n",
            " 12  EstimatedSalary  10000 non-null  float64\n",
            " 13  Exited           10000 non-null  float64\n",
            "dtypes: float64(11), object(3)\n",
            "memory usage: 1.1+ MB\n"
          ]
        }
      ]
    },
    {
      "cell_type": "code",
      "source": [
        "x = df.iloc[:, 3:-1].values\n",
        "x"
      ],
      "metadata": {
        "colab": {
          "base_uri": "https://localhost:8080/",
          "height": 0
        },
        "id": "Gfh8IFBju_s8",
        "outputId": "6cad76a6-e887-47de-9605-82990c4b3a5c"
      },
      "execution_count": 20,
      "outputs": [
        {
          "output_type": "execute_result",
          "data": {
            "text/plain": [
              "array([[619.0, 'France', 'Female', ..., 1.0, 1.0, 101348.88],\n",
              "       [608.0, 'Spain', 'Female', ..., 0.0, 1.0, 112542.58],\n",
              "       [502.0, 'France', 'Female', ..., 1.0, 0.0, 113931.57],\n",
              "       ...,\n",
              "       [709.0, 'France', 'Female', ..., 0.0, 1.0, 42085.58],\n",
              "       [772.0, 'Germany', 'Male', ..., 1.0, 0.0, 92888.52],\n",
              "       [792.0, 'France', 'Female', ..., 1.0, 0.0, 38190.78]], dtype=object)"
            ]
          },
          "metadata": {},
          "execution_count": 20
        }
      ]
    },
    {
      "cell_type": "code",
      "source": [
        "y = df.iloc[:, -1].values\n",
        "y"
      ],
      "metadata": {
        "colab": {
          "base_uri": "https://localhost:8080/",
          "height": 0
        },
        "id": "5HI_kGBbvNXE",
        "outputId": "dffb44e3-99aa-42d2-cf95-728cfb6ddcef"
      },
      "execution_count": 21,
      "outputs": [
        {
          "output_type": "execute_result",
          "data": {
            "text/plain": [
              "array([1., 0., 1., ..., 1., 1., 0.])"
            ]
          },
          "metadata": {},
          "execution_count": 21
        }
      ]
    },
    {
      "cell_type": "code",
      "source": [
        "from sklearn.preprocessing import LabelEncoder\n",
        "le = LabelEncoder()\n",
        "x[:,1] = le.fit_transform(x[:,1])\n",
        "\n",
        "le_1 = LabelEncoder()\n",
        "x[:,2] = le_1.fit_transform(x[:,2])"
      ],
      "metadata": {
        "id": "w62yXpOXvUPb"
      },
      "execution_count": 22,
      "outputs": []
    },
    {
      "cell_type": "code",
      "source": [
        "x"
      ],
      "metadata": {
        "colab": {
          "base_uri": "https://localhost:8080/",
          "height": 0
        },
        "id": "tvZM1qYpvuK0",
        "outputId": "78ea2c50-b20a-4879-af84-fa37f480ab7a"
      },
      "execution_count": 23,
      "outputs": [
        {
          "output_type": "execute_result",
          "data": {
            "text/plain": [
              "array([[619.0, 0, 0, ..., 1.0, 1.0, 101348.88],\n",
              "       [608.0, 2, 0, ..., 0.0, 1.0, 112542.58],\n",
              "       [502.0, 0, 0, ..., 1.0, 0.0, 113931.57],\n",
              "       ...,\n",
              "       [709.0, 0, 0, ..., 0.0, 1.0, 42085.58],\n",
              "       [772.0, 1, 1, ..., 1.0, 0.0, 92888.52],\n",
              "       [792.0, 0, 0, ..., 1.0, 0.0, 38190.78]], dtype=object)"
            ]
          },
          "metadata": {},
          "execution_count": 23
        }
      ]
    },
    {
      "cell_type": "code",
      "source": [
        "le.classes_"
      ],
      "metadata": {
        "colab": {
          "base_uri": "https://localhost:8080/",
          "height": 0
        },
        "id": "nUrhW8d8v2s0",
        "outputId": "cecde899-6c03-4682-fca6-0119bbb24a5f"
      },
      "execution_count": 24,
      "outputs": [
        {
          "output_type": "execute_result",
          "data": {
            "text/plain": [
              "array(['France', 'Germany', 'Spain'], dtype=object)"
            ]
          },
          "metadata": {},
          "execution_count": 24
        }
      ]
    },
    {
      "cell_type": "code",
      "source": [
        "le_1.classes_"
      ],
      "metadata": {
        "colab": {
          "base_uri": "https://localhost:8080/",
          "height": 0
        },
        "id": "4OKliBc0v6XL",
        "outputId": "0acbf274-f1df-47ed-b773-e70a52229eb4"
      },
      "execution_count": 25,
      "outputs": [
        {
          "output_type": "execute_result",
          "data": {
            "text/plain": [
              "array(['Female', 'Male'], dtype=object)"
            ]
          },
          "metadata": {},
          "execution_count": 25
        }
      ]
    },
    {
      "cell_type": "code",
      "source": [
        "from scipy.sparse.construct import rand\n",
        "from sklearn.model_selection import train_test_split\n",
        "xtrain, xtest, ytrain, ytest = train_test_split(x, y, test_size=0.3, random_state=123)"
      ],
      "metadata": {
        "id": "xM1Q1Ck9v_O0"
      },
      "execution_count": 26,
      "outputs": []
    },
    {
      "cell_type": "code",
      "source": [
        "xtrain"
      ],
      "metadata": {
        "colab": {
          "base_uri": "https://localhost:8080/",
          "height": 0
        },
        "id": "qtgQKhZQxH_0",
        "outputId": "b74ff3a8-5b6b-4f00-8c74-06fadcabb767"
      },
      "execution_count": 27,
      "outputs": [
        {
          "output_type": "execute_result",
          "data": {
            "text/plain": [
              "array([[648.0, 2, 1, ..., 0.0, 1.0, 181534.04],\n",
              "       [693.0, 2, 0, ..., 1.0, 1.0, 135502.77],\n",
              "       [586.0, 2, 0, ..., 1.0, 1.0, 168261.4],\n",
              "       ...,\n",
              "       [685.0, 0, 1, ..., 1.0, 0.0, 38691.34],\n",
              "       [643.0, 0, 1, ..., 1.0, 1.0, 165614.4],\n",
              "       [686.0, 0, 1, ..., 1.0, 0.0, 8816.37]], dtype=object)"
            ]
          },
          "metadata": {},
          "execution_count": 27
        }
      ]
    },
    {
      "cell_type": "code",
      "source": [
        "from sklearn.preprocessing import StandardScaler\n",
        "sc = StandardScaler()\n",
        "xtrain = sc.fit_transform(xtrain)\n",
        "\n",
        "xtest = sc.transform(xtest)"
      ],
      "metadata": {
        "id": "2hWXtte1xJ_q"
      },
      "execution_count": 28,
      "outputs": []
    },
    {
      "cell_type": "code",
      "source": [
        "# STEP 1: Initiate the model\n",
        "ann = Sequential()\n",
        "\n",
        "# STEP 2: add layers into the model\n",
        "ann.add(Dense(units=6, activation=\"relu\")) # Created one hidden layer\n",
        "ann.add(Dense(units=1, activation=\"sigmoid\"))\n",
        "\n",
        "# STEP 3: establish connection between the layers\n",
        "ann.compile(optimizer=\"adam\", loss=\"binary_crossentropy\", metrics=[\"accuracy\"])\n",
        "\n",
        "# STEP 4: train the model\n",
        "ann.fit(xtrain, ytrain, batch_size=30, epochs=100)\n",
        "\n",
        "# STEP 5: make prediction\n",
        "ypred = ann.predict(xtest)"
      ],
      "metadata": {
        "colab": {
          "base_uri": "https://localhost:8080/",
          "height": 0
        },
        "id": "vIkWT-jxxYsL",
        "outputId": "cf11f7a0-4569-4ca7-a8f3-70d53fc72da7"
      },
      "execution_count": 29,
      "outputs": [
        {
          "output_type": "stream",
          "name": "stdout",
          "text": [
            "Epoch 1/100\n",
            "234/234 [==============================] - 1s 2ms/step - loss: 0.5972 - accuracy: 0.7453\n",
            "Epoch 2/100\n",
            "234/234 [==============================] - 0s 2ms/step - loss: 0.4991 - accuracy: 0.7966\n",
            "Epoch 3/100\n",
            "234/234 [==============================] - 0s 2ms/step - loss: 0.4641 - accuracy: 0.7974\n",
            "Epoch 4/100\n",
            "234/234 [==============================] - 0s 2ms/step - loss: 0.4430 - accuracy: 0.8060\n",
            "Epoch 5/100\n",
            "234/234 [==============================] - 0s 2ms/step - loss: 0.4304 - accuracy: 0.8146\n",
            "Epoch 6/100\n",
            "234/234 [==============================] - 1s 2ms/step - loss: 0.4219 - accuracy: 0.8194\n",
            "Epoch 7/100\n",
            "234/234 [==============================] - 1s 2ms/step - loss: 0.4142 - accuracy: 0.8247\n",
            "Epoch 8/100\n",
            "234/234 [==============================] - 1s 3ms/step - loss: 0.4072 - accuracy: 0.8297\n",
            "Epoch 9/100\n",
            "234/234 [==============================] - 0s 2ms/step - loss: 0.4006 - accuracy: 0.8334\n",
            "Epoch 10/100\n",
            "234/234 [==============================] - 0s 2ms/step - loss: 0.3937 - accuracy: 0.8349\n",
            "Epoch 11/100\n",
            "234/234 [==============================] - 0s 2ms/step - loss: 0.3880 - accuracy: 0.8393\n",
            "Epoch 12/100\n",
            "234/234 [==============================] - 0s 2ms/step - loss: 0.3825 - accuracy: 0.8427\n",
            "Epoch 13/100\n",
            "234/234 [==============================] - 0s 2ms/step - loss: 0.3778 - accuracy: 0.8449\n",
            "Epoch 14/100\n",
            "234/234 [==============================] - 0s 2ms/step - loss: 0.3736 - accuracy: 0.8467\n",
            "Epoch 15/100\n",
            "234/234 [==============================] - 0s 2ms/step - loss: 0.3695 - accuracy: 0.8479\n",
            "Epoch 16/100\n",
            "234/234 [==============================] - 0s 2ms/step - loss: 0.3664 - accuracy: 0.8503\n",
            "Epoch 17/100\n",
            "234/234 [==============================] - 0s 2ms/step - loss: 0.3640 - accuracy: 0.8514\n",
            "Epoch 18/100\n",
            "234/234 [==============================] - 1s 2ms/step - loss: 0.3617 - accuracy: 0.8513\n",
            "Epoch 19/100\n",
            "234/234 [==============================] - 0s 2ms/step - loss: 0.3599 - accuracy: 0.8537\n",
            "Epoch 20/100\n",
            "234/234 [==============================] - 0s 2ms/step - loss: 0.3586 - accuracy: 0.8530\n",
            "Epoch 21/100\n",
            "234/234 [==============================] - 0s 2ms/step - loss: 0.3573 - accuracy: 0.8541\n",
            "Epoch 22/100\n",
            "234/234 [==============================] - 0s 2ms/step - loss: 0.3561 - accuracy: 0.8547\n",
            "Epoch 23/100\n",
            "234/234 [==============================] - 0s 2ms/step - loss: 0.3554 - accuracy: 0.8561\n",
            "Epoch 24/100\n",
            "234/234 [==============================] - 0s 1ms/step - loss: 0.3546 - accuracy: 0.8551\n",
            "Epoch 25/100\n",
            "234/234 [==============================] - 0s 2ms/step - loss: 0.3539 - accuracy: 0.8559\n",
            "Epoch 26/100\n",
            "234/234 [==============================] - 0s 2ms/step - loss: 0.3536 - accuracy: 0.8566\n",
            "Epoch 27/100\n",
            "234/234 [==============================] - 0s 2ms/step - loss: 0.3529 - accuracy: 0.8561\n",
            "Epoch 28/100\n",
            "234/234 [==============================] - 0s 2ms/step - loss: 0.3525 - accuracy: 0.8559\n",
            "Epoch 29/100\n",
            "234/234 [==============================] - 0s 1ms/step - loss: 0.3524 - accuracy: 0.8550\n",
            "Epoch 30/100\n",
            "234/234 [==============================] - 0s 1ms/step - loss: 0.3519 - accuracy: 0.8566\n",
            "Epoch 31/100\n",
            "234/234 [==============================] - 0s 1ms/step - loss: 0.3516 - accuracy: 0.8556\n",
            "Epoch 32/100\n",
            "234/234 [==============================] - 0s 2ms/step - loss: 0.3515 - accuracy: 0.8559\n",
            "Epoch 33/100\n",
            "234/234 [==============================] - 0s 2ms/step - loss: 0.3510 - accuracy: 0.8561\n",
            "Epoch 34/100\n",
            "234/234 [==============================] - 0s 2ms/step - loss: 0.3510 - accuracy: 0.8587\n",
            "Epoch 35/100\n",
            "234/234 [==============================] - 0s 2ms/step - loss: 0.3506 - accuracy: 0.8563\n",
            "Epoch 36/100\n",
            "234/234 [==============================] - 0s 2ms/step - loss: 0.3505 - accuracy: 0.8576\n",
            "Epoch 37/100\n",
            "234/234 [==============================] - 0s 2ms/step - loss: 0.3503 - accuracy: 0.8557\n",
            "Epoch 38/100\n",
            "234/234 [==============================] - 0s 2ms/step - loss: 0.3500 - accuracy: 0.8564\n",
            "Epoch 39/100\n",
            "234/234 [==============================] - 0s 2ms/step - loss: 0.3500 - accuracy: 0.8560\n",
            "Epoch 40/100\n",
            "234/234 [==============================] - 0s 1ms/step - loss: 0.3498 - accuracy: 0.8573\n",
            "Epoch 41/100\n",
            "234/234 [==============================] - 0s 2ms/step - loss: 0.3497 - accuracy: 0.8567\n",
            "Epoch 42/100\n",
            "234/234 [==============================] - 0s 2ms/step - loss: 0.3492 - accuracy: 0.8571\n",
            "Epoch 43/100\n",
            "234/234 [==============================] - 0s 2ms/step - loss: 0.3493 - accuracy: 0.8564\n",
            "Epoch 44/100\n",
            "234/234 [==============================] - 0s 2ms/step - loss: 0.3490 - accuracy: 0.8566\n",
            "Epoch 45/100\n",
            "234/234 [==============================] - 1s 4ms/step - loss: 0.3488 - accuracy: 0.8561\n",
            "Epoch 46/100\n",
            "234/234 [==============================] - 0s 2ms/step - loss: 0.3487 - accuracy: 0.8560\n",
            "Epoch 47/100\n",
            "234/234 [==============================] - 0s 2ms/step - loss: 0.3484 - accuracy: 0.8567\n",
            "Epoch 48/100\n",
            "234/234 [==============================] - 0s 1ms/step - loss: 0.3485 - accuracy: 0.8570\n",
            "Epoch 49/100\n",
            "234/234 [==============================] - 0s 2ms/step - loss: 0.3485 - accuracy: 0.8563\n",
            "Epoch 50/100\n",
            "234/234 [==============================] - 0s 2ms/step - loss: 0.3482 - accuracy: 0.8564\n",
            "Epoch 51/100\n",
            "234/234 [==============================] - 0s 2ms/step - loss: 0.3479 - accuracy: 0.8564\n",
            "Epoch 52/100\n",
            "234/234 [==============================] - 0s 2ms/step - loss: 0.3482 - accuracy: 0.8583\n",
            "Epoch 53/100\n",
            "234/234 [==============================] - 0s 1ms/step - loss: 0.3479 - accuracy: 0.8584\n",
            "Epoch 54/100\n",
            "234/234 [==============================] - 0s 2ms/step - loss: 0.3478 - accuracy: 0.8573\n",
            "Epoch 55/100\n",
            "234/234 [==============================] - 0s 2ms/step - loss: 0.3475 - accuracy: 0.8579\n",
            "Epoch 56/100\n",
            "234/234 [==============================] - 0s 2ms/step - loss: 0.3475 - accuracy: 0.8580\n",
            "Epoch 57/100\n",
            "234/234 [==============================] - 0s 2ms/step - loss: 0.3474 - accuracy: 0.8586\n",
            "Epoch 58/100\n",
            "234/234 [==============================] - 0s 2ms/step - loss: 0.3474 - accuracy: 0.8581\n",
            "Epoch 59/100\n",
            "234/234 [==============================] - 0s 2ms/step - loss: 0.3473 - accuracy: 0.8593\n",
            "Epoch 60/100\n",
            "234/234 [==============================] - 0s 2ms/step - loss: 0.3472 - accuracy: 0.8564\n",
            "Epoch 61/100\n",
            "234/234 [==============================] - 0s 2ms/step - loss: 0.3471 - accuracy: 0.8577\n",
            "Epoch 62/100\n",
            "234/234 [==============================] - 0s 2ms/step - loss: 0.3470 - accuracy: 0.8580\n",
            "Epoch 63/100\n",
            "234/234 [==============================] - 0s 2ms/step - loss: 0.3471 - accuracy: 0.8571\n",
            "Epoch 64/100\n",
            "234/234 [==============================] - 1s 2ms/step - loss: 0.3468 - accuracy: 0.8579\n",
            "Epoch 65/100\n",
            "234/234 [==============================] - 1s 3ms/step - loss: 0.3467 - accuracy: 0.8583\n",
            "Epoch 66/100\n",
            "234/234 [==============================] - 0s 2ms/step - loss: 0.3464 - accuracy: 0.8573\n",
            "Epoch 67/100\n",
            "234/234 [==============================] - 1s 2ms/step - loss: 0.3467 - accuracy: 0.8604\n",
            "Epoch 68/100\n",
            "234/234 [==============================] - 1s 2ms/step - loss: 0.3466 - accuracy: 0.8574\n",
            "Epoch 69/100\n",
            "234/234 [==============================] - 0s 2ms/step - loss: 0.3465 - accuracy: 0.8581\n",
            "Epoch 70/100\n",
            "234/234 [==============================] - 0s 2ms/step - loss: 0.3464 - accuracy: 0.8584\n",
            "Epoch 71/100\n",
            "234/234 [==============================] - 0s 1ms/step - loss: 0.3463 - accuracy: 0.8577\n",
            "Epoch 72/100\n",
            "234/234 [==============================] - 0s 2ms/step - loss: 0.3464 - accuracy: 0.8590\n",
            "Epoch 73/100\n",
            "234/234 [==============================] - 0s 2ms/step - loss: 0.3463 - accuracy: 0.8573\n",
            "Epoch 74/100\n",
            "234/234 [==============================] - 0s 2ms/step - loss: 0.3460 - accuracy: 0.8591\n",
            "Epoch 75/100\n",
            "234/234 [==============================] - 0s 2ms/step - loss: 0.3462 - accuracy: 0.8587\n",
            "Epoch 76/100\n",
            "234/234 [==============================] - 0s 2ms/step - loss: 0.3461 - accuracy: 0.8591\n",
            "Epoch 77/100\n",
            "234/234 [==============================] - 0s 2ms/step - loss: 0.3458 - accuracy: 0.8566\n",
            "Epoch 78/100\n",
            "234/234 [==============================] - 0s 2ms/step - loss: 0.3460 - accuracy: 0.8579\n",
            "Epoch 79/100\n",
            "234/234 [==============================] - 0s 2ms/step - loss: 0.3458 - accuracy: 0.8581\n",
            "Epoch 80/100\n",
            "234/234 [==============================] - 0s 2ms/step - loss: 0.3455 - accuracy: 0.8591\n",
            "Epoch 81/100\n",
            "234/234 [==============================] - 0s 2ms/step - loss: 0.3461 - accuracy: 0.8581\n",
            "Epoch 82/100\n",
            "234/234 [==============================] - 0s 2ms/step - loss: 0.3457 - accuracy: 0.8579\n",
            "Epoch 83/100\n",
            "234/234 [==============================] - 0s 2ms/step - loss: 0.3456 - accuracy: 0.8576\n",
            "Epoch 84/100\n",
            "234/234 [==============================] - 0s 1ms/step - loss: 0.3455 - accuracy: 0.8587\n",
            "Epoch 85/100\n",
            "234/234 [==============================] - 0s 2ms/step - loss: 0.3456 - accuracy: 0.8586\n",
            "Epoch 86/100\n",
            "234/234 [==============================] - 0s 2ms/step - loss: 0.3456 - accuracy: 0.8591\n",
            "Epoch 87/100\n",
            "234/234 [==============================] - 0s 2ms/step - loss: 0.3455 - accuracy: 0.8590\n",
            "Epoch 88/100\n",
            "234/234 [==============================] - 0s 2ms/step - loss: 0.3454 - accuracy: 0.8574\n",
            "Epoch 89/100\n",
            "234/234 [==============================] - 0s 1ms/step - loss: 0.3453 - accuracy: 0.8581\n",
            "Epoch 90/100\n",
            "234/234 [==============================] - 0s 2ms/step - loss: 0.3454 - accuracy: 0.8597\n",
            "Epoch 91/100\n",
            "234/234 [==============================] - 0s 1ms/step - loss: 0.3451 - accuracy: 0.8586\n",
            "Epoch 92/100\n",
            "234/234 [==============================] - 0s 2ms/step - loss: 0.3451 - accuracy: 0.8590\n",
            "Epoch 93/100\n",
            "234/234 [==============================] - 0s 2ms/step - loss: 0.3451 - accuracy: 0.8591\n",
            "Epoch 94/100\n",
            "234/234 [==============================] - 0s 1ms/step - loss: 0.3450 - accuracy: 0.8573\n",
            "Epoch 95/100\n",
            "234/234 [==============================] - 0s 2ms/step - loss: 0.3449 - accuracy: 0.8581\n",
            "Epoch 96/100\n",
            "234/234 [==============================] - 0s 1ms/step - loss: 0.3446 - accuracy: 0.8601\n",
            "Epoch 97/100\n",
            "234/234 [==============================] - 0s 2ms/step - loss: 0.3450 - accuracy: 0.8581\n",
            "Epoch 98/100\n",
            "234/234 [==============================] - 0s 2ms/step - loss: 0.3449 - accuracy: 0.8590\n",
            "Epoch 99/100\n",
            "234/234 [==============================] - 0s 2ms/step - loss: 0.3447 - accuracy: 0.8599\n",
            "Epoch 100/100\n",
            "234/234 [==============================] - 1s 2ms/step - loss: 0.3448 - accuracy: 0.8603\n",
            "94/94 [==============================] - 0s 945us/step\n"
          ]
        }
      ]
    },
    {
      "cell_type": "code",
      "source": [
        "# STEP 6: Set the threshold\n",
        "ypred = np.where(ypred<0.5,0,1)"
      ],
      "metadata": {
        "id": "DKLXaeQQyKOL"
      },
      "execution_count": 30,
      "outputs": []
    },
    {
      "cell_type": "code",
      "source": [
        "ypred"
      ],
      "metadata": {
        "colab": {
          "base_uri": "https://localhost:8080/",
          "height": 0
        },
        "id": "2c6-k9ANyexT",
        "outputId": "ed4db6a7-6dac-42cd-dd89-c0b767c51792"
      },
      "execution_count": 31,
      "outputs": [
        {
          "output_type": "execute_result",
          "data": {
            "text/plain": [
              "array([[0],\n",
              "       [0],\n",
              "       [0],\n",
              "       ...,\n",
              "       [0],\n",
              "       [0],\n",
              "       [0]])"
            ]
          },
          "metadata": {},
          "execution_count": 31
        }
      ]
    },
    {
      "cell_type": "code",
      "source": [
        "print(classification_report(ytest, ypred))"
      ],
      "metadata": {
        "colab": {
          "base_uri": "https://localhost:8080/",
          "height": 0
        },
        "id": "OKJhlTbWyfU7",
        "outputId": "b718222b-8178-4d19-f671-de8e64c973c0"
      },
      "execution_count": 32,
      "outputs": [
        {
          "output_type": "stream",
          "name": "stdout",
          "text": [
            "              precision    recall  f1-score   support\n",
            "\n",
            "         0.0       0.88      0.97      0.92      2395\n",
            "         1.0       0.80      0.47      0.59       605\n",
            "\n",
            "    accuracy                           0.87      3000\n",
            "   macro avg       0.84      0.72      0.76      3000\n",
            "weighted avg       0.86      0.87      0.86      3000\n",
            "\n"
          ]
        }
      ]
    },
    {
      "cell_type": "code",
      "source": [
        "df[\"Exited\"].value_counts()"
      ],
      "metadata": {
        "colab": {
          "base_uri": "https://localhost:8080/",
          "height": 0
        },
        "id": "tOQARmgHyjdr",
        "outputId": "2ad0b8c6-6e82-4601-d716-3d275c23a958"
      },
      "execution_count": 33,
      "outputs": [
        {
          "output_type": "execute_result",
          "data": {
            "text/plain": [
              "0.0    7963\n",
              "1.0    2037\n",
              "Name: Exited, dtype: int64"
            ]
          },
          "metadata": {},
          "execution_count": 33
        }
      ]
    },
    {
      "cell_type": "code",
      "source": [],
      "metadata": {
        "id": "bCi4PZsIynYS"
      },
      "execution_count": null,
      "outputs": []
    },
    {
      "cell_type": "markdown",
      "source": [
        "Checking the accuracy with Logistic regression"
      ],
      "metadata": {
        "id": "z4DLvqtgyrm6"
      }
    },
    {
      "cell_type": "code",
      "source": [
        "from sklearn.linear_model import LogisticRegression\n",
        "lr = LogisticRegression()\n",
        "lr.fit(xtrain, ytrain)\n",
        "ypred_lr = lr.predict(xtest)"
      ],
      "metadata": {
        "id": "Wi4V9_NAywZi"
      },
      "execution_count": 34,
      "outputs": []
    },
    {
      "cell_type": "code",
      "source": [
        "print(classification_report(ytest, ypred_lr))"
      ],
      "metadata": {
        "colab": {
          "base_uri": "https://localhost:8080/",
          "height": 0
        },
        "id": "k6V8VNSRzN3q",
        "outputId": "fb03da98-f4ac-457d-912d-c942df813f90"
      },
      "execution_count": 35,
      "outputs": [
        {
          "output_type": "stream",
          "name": "stdout",
          "text": [
            "              precision    recall  f1-score   support\n",
            "\n",
            "         0.0       0.82      0.97      0.89      2395\n",
            "         1.0       0.61      0.16      0.25       605\n",
            "\n",
            "    accuracy                           0.81      3000\n",
            "   macro avg       0.72      0.57      0.57      3000\n",
            "weighted avg       0.78      0.81      0.76      3000\n",
            "\n"
          ]
        }
      ]
    },
    {
      "cell_type": "code",
      "source": [],
      "metadata": {
        "id": "2C-6XiN5zVbJ"
      },
      "execution_count": null,
      "outputs": []
    }
  ]
}